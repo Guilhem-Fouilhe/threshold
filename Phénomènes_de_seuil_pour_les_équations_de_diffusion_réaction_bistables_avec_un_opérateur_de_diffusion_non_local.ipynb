{
  "nbformat": 4,
  "nbformat_minor": 0,
  "metadata": {
    "kernelspec": {
      "display_name": "Python 3",
      "language": "python",
      "name": "python3"
    },
    "language_info": {
      "codemirror_mode": {
        "name": "ipython",
        "version": 3
      },
      "file_extension": ".py",
      "mimetype": "text/x-python",
      "name": "python",
      "nbconvert_exporter": "python",
      "pygments_lexer": "ipython3",
      "version": "3.8.5"
    },
    "latex_envs": {
      "LaTeX_envs_menu_present": true,
      "autoclose": false,
      "autocomplete": true,
      "bibliofile": "biblio.bib",
      "cite_by": "apalike",
      "current_citInitial": 1,
      "eqLabelWithNumbers": true,
      "eqNumInitial": 1,
      "hotkeys": {
        "equation": "Ctrl-E",
        "itemize": "Ctrl-I"
      },
      "labels_anchors": false,
      "latex_user_defs": false,
      "report_style_numbering": false,
      "user_envs_cfg": false
    },
    "toc": {
      "base_numbering": 1,
      "nav_menu": {},
      "number_sections": true,
      "sideBar": true,
      "skip_h1_title": true,
      "title_cell": "Table of Contents",
      "title_sidebar": "Contents",
      "toc_cell": false,
      "toc_position": {
        "height": "399.333px",
        "left": "24px",
        "top": "180px",
        "width": "212px"
      },
      "toc_section_display": true,
      "toc_window_display": true
    },
    "colab": {
      "name": "Phénomènes de seuil pour les équations de diffusion réaction bistables avec un opérateur de diffusion non local.ipynb",
      "provenance": [],
      "collapsed_sections": [],
      "include_colab_link": true
    }
  },
  "cells": [
    {
      "cell_type": "markdown",
      "metadata": {
        "id": "view-in-github",
        "colab_type": "text"
      },
      "source": [
        "<a href=\"https://colab.research.google.com/github/Guilhem-Fouilhe/threshold/blob/main/Ph%C3%A9nom%C3%A8nes_de_seuil_pour_les_%C3%A9quations_de_diffusion_r%C3%A9action_bistables_avec_un_op%C3%A9rateur_de_diffusion_non_local.ipynb\" target=\"_parent\"><img src=\"https://colab.research.google.com/assets/colab-badge.svg\" alt=\"Open In Colab\"/></a>"
      ]
    },
    {
      "cell_type": "markdown",
      "metadata": {
        "id": "hJlSXEQlSoN0"
      },
      "source": [
        "# Phénomènes de seuil pour les équations de diffusion réaction bistables avec un opérateur de diffusion non local\n",
        "\n",
        "Alexandre Capel & Guilhem Fouilhé\n"
      ]
    },
    {
      "cell_type": "markdown",
      "metadata": {
        "id": "99TpruiYSoN3"
      },
      "source": [
        "## Introduction"
      ]
    },
    {
      "cell_type": "markdown",
      "metadata": {
        "id": "vdWOuMu3SoN3"
      },
      "source": [
        "On s'intéresse aux équations de réaction diffusion :\n",
        "\n",
        "\\begin{equation}\n",
        "\\partial_t u = D(u) + R(u)\n",
        "\\end{equation}\n",
        "\n",
        "Ces équations possèdent certaines propriétés intéréssantes bien étudiées dans certain cas. En particulier, il a été montré qu'il existe dans certains cas des phénomènes de seuil portant sur les conditions initiales.\n",
        "\n",
        "Considérons l'équation :\n",
        "\n",
        "\\begin{equation}\n",
        "\\partial_t u = \\partial_{xx} u + f(u)\n",
        "\\end{equation}\n",
        "\n",
        "avec $f$ bistable, vérifiant :\n",
        "\\begin{equation}\n",
        "\\begin{split}\n",
        "(i)~~&f(0) = f(1) = 0 \\\\\n",
        "(ii)~~&\\exists a \\in ]0,1[, f(a) = 0 \\\\\n",
        "(iii)~~&f'(0)<0 , f'(1)<0, f'(a)>0 \\\\\n",
        "(iv)~~ &\\int_0^1 f(u)du >0\n",
        "\\end{split}\n",
        "\\end{equation}\n",
        "\n",
        "Ici, nous considérons le cas où $f(u) = u(1-u)(u-a)$\n",
        "\n",
        "On s'intéresse au problème de cauchy associé à cette équation avec comme condition initiale : \n",
        "\n",
        "\\begin{equation}\n",
        "u(t=0,x) = u_0(x) = \\mathbb{1}_{[-\\ell,\\ell]}(x) \n",
        "\\end{equation}\n",
        "\n",
        "Il a été montré (Zlatos 06) l'existence de $\\ell * $ tel que :\n",
        "\n",
        "$\\forall \\ell < \\ell * , u(t,x) \\underset{t \\to +\\infty}{\\overset{unif}{\\longrightarrow}}0$ (Extinction)\n",
        "\n",
        "$\\forall \\ell > \\ell * , u(t,x) \\underset{t \\to +\\infty}{\\overset{loc. unif}{\\longrightarrow}}1$ (Propagation)\n",
        "\n",
        "et pour $\\ell = \\ell * $ , $u(t,x) \\underset{t \\to +\\infty}{\\overset{unif}{\\longrightarrow}}U_{*}(x)$ (Ground state)"
      ]
    },
    {
      "cell_type": "markdown",
      "metadata": {
        "id": "YP6If0OgSoN4"
      },
      "source": [
        "![1](https://github.com/Guilhem-Fouilhe/threshold/raw/main/pictures/Figures%20research/exinction.png) ![2](https://github.com/Guilhem-Fouilhe/threshold/raw/main/pictures/Figures%20research/propagation.png)"
      ]
    },
    {
      "cell_type": "markdown",
      "metadata": {
        "id": "1cYmdaOkSoN4"
      },
      "source": [
        "_en rouge : ground state_\n",
        "\n",
        "_autres courbes : solutions pour différentes valeurs de t_"
      ]
    },
    {
      "cell_type": "markdown",
      "metadata": {
        "id": "X9Xi2BbjSoN4"
      },
      "source": [
        "### Opérateur non local"
      ]
    },
    {
      "cell_type": "markdown",
      "metadata": {
        "id": "x7vN9sf5SoN5"
      },
      "source": [
        "Nous étudions actuellement le cas où l'opérateur de diffusion est non local, en particulier $D(u) = d(-u + K*u)$\n",
        "où d est le coefficient de diffusion, $*$ représente la convolution  : \n",
        "$f*g(x) = \\int_{-\\infty}^{\\infty}f(x-y)g(y)dy$ et où $K(x) = \\frac{e^{-|x|}}{2} $.\n",
        "\n",
        "On pourra aussi considérer d'autres noyaux vérifiant certaines hypothèses (H1):\n",
        "\n",
        "\\begin{equation}\n",
        "\\begin{split}\n",
        "(i)~~ &K, K' \\in L^1(\\mathbb{R}) \\\\\n",
        "(ii)~~ & K \\text{ est paire, } \\\\\n",
        "(iii) ~~& \\int_\\mathbb{R} K(x)dx = 1 \\\\\n",
        "(iv) ~~& \\int_\\mathbb{R} K(y)|y|dy < \\infty\n",
        "\\end{split}\n",
        "\\end{equation}"
      ]
    },
    {
      "cell_type": "markdown",
      "metadata": {
        "id": "yIMwCSHGSoN5"
      },
      "source": [
        "![image.png](https://raw.githubusercontent.com/Guilhem-Fouilhe/threshold/main/pictures/Figures%20research/noyau.png)"
      ]
    },
    {
      "cell_type": "markdown",
      "metadata": {
        "id": "RlYsd0UvSoN5"
      },
      "source": [
        "##### Interprétation physique"
      ]
    },
    {
      "cell_type": "markdown",
      "metadata": {
        "id": "6KUZ3RMVSoN6"
      },
      "source": [
        "Commençons par développer une intuition physique de cet opérateur dans l'équation de diffusion :\n",
        "\n",
        "\\begin{equation}\n",
        "\\partial_t u = -u + K*u\n",
        "\\end{equation}\n",
        "\n",
        "Si $u(t,x)$ représente la densité de population en $x$ à l'instant $t$, alors on peut considérer :\n",
        "\n",
        "$K(x-y)$ : probabilité de \"sauter\" de x à y en un instant \n",
        "\n",
        "$K*u(x,t)$ : taux d'arrivée à la position x depuis toutes les autres positions à l'instant t\n",
        "\n",
        "$-u(x,t)$ : taux de départ de la position x vers toutes les autres positions à l'instant t\n",
        "\n",
        "Cet opérateur est non local au sens que la convolution entraine que la diffusion au voisinage de $x$ ne dépend pas que des valeurs de $u(x,t)$ sur ce voisinage mais des valeurs de $u(x,t)$ partout ailleurs.\n",
        "\n",
        "Cette équation partage quelques propriétés communes avec l'équation de la chaleur $\\partial_t = d\\partial_{xx}u$, par exemple les solutions stationnaires bornées sont constantes, mais aussi quelques différences : la diffusion non locale ne régularise pas les solutions en général.\n",
        "\n",
        "On peut d'ailleurs observer des phénomènes de discontinuité sur les solutions, pour des valeurs de $d$ bien choisies : "
      ]
    },
    {
      "cell_type": "markdown",
      "metadata": {
        "id": "aWhOVOn4SoN6"
      },
      "source": [
        "![image-2.png](https://raw.githubusercontent.com/Guilhem-Fouilhe/threshold/main/pictures/Figures%20research/discontinuity.png)"
      ]
    },
    {
      "cell_type": "markdown",
      "metadata": {
        "id": "UtLZw5DESoN6"
      },
      "source": [
        "##### Solution fondamentale"
      ]
    },
    {
      "cell_type": "markdown",
      "metadata": {
        "id": "fgb7DJERSoN6"
      },
      "source": [
        "On peut résoudre cette équation en utilisant la transformée de fourier. Il nous faut d'abord calculer la solution fondamentale qui correspond à la solution vérifiant :\n",
        "\n",
        "\\begin{equation}\n",
        "\\left\\{\n",
        "  \\begin{array}{cc}\n",
        "\\partial_t w(t,x) =  d(-w(t,x) + K*w(t,x)) \\\\\n",
        "w(t=0,x) = w_0(x) = \\delta_0(x)\n",
        "\\end{array}\n",
        "\\right.\n",
        "\\end{equation}\n",
        "\n",
        "où $\\delta_0(x)$ est la distribution de dirac en 0, telle que $\\int_{-\\infty}^{\\infty} \\delta_0(x)dx = 1$\n",
        "\n",
        "En passant l'équation en transformée de Fourier, on a donc :\n",
        "\n",
        "\\begin{equation}\n",
        "\\left\\{\n",
        "  \\begin{array}{cc}\n",
        "\\partial_t \\widehat{w}(t,\\xi) = d(-\\widehat{w}(t,\\xi) + \\widehat{K}(\\xi) \\widehat{w}(t,\\xi))\\\\\n",
        "\\widehat{w}(t=0,\\xi) = 1\n",
        "\\end{array}\n",
        "\\right.\n",
        "\\end{equation}\n",
        "\n",
        "On a, pour $\\xi$ fixé, une équation différentielle linéaire, dont la solution s'exprime par :\n",
        "\n",
        "\\begin{equation}\n",
        "\\widehat{w}(t,\\xi) = e^{d(\\widehat{K(\\xi)} -1)t}\n",
        "\\end{equation}\n",
        "\n",
        "et donc $w(x,t) = \\mathcal{F}^{-1} (e^{d(\\widehat{K(\\xi)} -1)t})$\n",
        "\n",
        "On peut calculer toutes les autres solutions pour des certains $u_0$ avec cette solution fondamentale :\n",
        "\n",
        "\\begin{equation}\n",
        "u(x,t) = w*u_0(x)\n",
        "\\end{equation}"
      ]
    },
    {
      "cell_type": "markdown",
      "metadata": {
        "id": "U5q1FQUjSoN7"
      },
      "source": [
        "### Equation de réaction-diffusion"
      ]
    },
    {
      "cell_type": "markdown",
      "metadata": {
        "id": "khqudq20SoN7"
      },
      "source": [
        "On s'intéressera plûtot à l'équation avec terme de réaction : \n",
        "\\begin{equation}\n",
        "\\partial_t u = d(-u + K*u) + f(u)\n",
        "\\end{equation}\n",
        "\n",
        "\n"
      ]
    },
    {
      "cell_type": "markdown",
      "metadata": {
        "id": "74LYdoV-SoN7"
      },
      "source": [
        "##### Solutions sous forme d'ondes "
      ]
    },
    {
      "cell_type": "markdown",
      "metadata": {
        "id": "Mk6tngGbSoN7"
      },
      "source": [
        "De la même manière que l'équation de diffusion réaction avec opérateur de diffusion laplacien, les équations admettent des solutions sous forme d'onde progressives (Bates 97). Plus précisemment, on peut trouver des solutions de la forme $u(x,t) = U(x-ct)$ avec $c$ la vélocité de la propagation, constante. Ces solutions vérifient (pour d=1) :\n",
        "\\begin{equation}\n",
        "\\left\\{\n",
        "\\begin{array}{cc}\n",
        "0 = -U + K*U + cU' + f(U) \\\\\n",
        "U(+\\infty) = 0 , U(-\\infty) = 1\n",
        "\\end{array}\n",
        "\\right.\n",
        "\\end{equation}\n"
      ]
    },
    {
      "cell_type": "markdown",
      "metadata": {
        "id": "Ofe9xx5ySoN8"
      },
      "source": [
        "![image.png](https://github.com/Guilhem-Fouilhe/threshold/raw/main/pictures/Figures%20research/waves.png)"
      ]
    },
    {
      "cell_type": "markdown",
      "metadata": {
        "id": "ptdiK2zOSoN8"
      },
      "source": [
        "De même, on peut observer expérimentalement l'existence de solutions qui convergent vers 0 :"
      ]
    },
    {
      "cell_type": "markdown",
      "metadata": {
        "id": "TBTnUZfHSoN-"
      },
      "source": [
        "![image.png](https://github.com/Guilhem-Fouilhe/threshold/raw/main/pictures/Figures%20research/converge0.png)"
      ]
    },
    {
      "cell_type": "markdown",
      "metadata": {
        "id": "R0M7ShqGSoN-"
      },
      "source": [
        "#### Phénomènes de blocages"
      ]
    },
    {
      "cell_type": "markdown",
      "metadata": {
        "id": "6AdFPI9YSoN-"
      },
      "source": [
        "Il a été mis en évidence des phénomènes de blocages pour les solutions de cette équation. Plus précisément, pour certaines valeurs de $(d,a)$, un phénomène empêche la propagation des ondes et fait apparaître des discontinuités. Cette question a été traitée notamment par les étudiants ayant participé au stage de recherche organisé aux états-unis par G. Faye. Les phénomènes de blocages ont ainsi lieu dans une certaine région continue que l'on sait bien décrire : "
      ]
    },
    {
      "cell_type": "markdown",
      "metadata": {
        "id": "8gPIbVRsSoN-"
      },
      "source": [
        "![image.png](https://github.com/Guilhem-Fouilhe/threshold/raw/main/pictures/Figures%20research/pinnning.png)"
      ]
    },
    {
      "cell_type": "markdown",
      "metadata": {
        "id": "qHac0GuuSoN_"
      },
      "source": [
        "![image-2.png](https://raw.githubusercontent.com/Guilhem-Fouilhe/threshold/main/pictures/Figures%20research/Pinning%20region.png)"
      ]
    },
    {
      "cell_type": "markdown",
      "metadata": {
        "id": "XckObeI3SoN_"
      },
      "source": [
        "_Toutes les solutions sont concentrées et discontinues. Il y a \"blocage\"._"
      ]
    },
    {
      "cell_type": "markdown",
      "metadata": {
        "id": "pXZtdm7GSoN_"
      },
      "source": [
        "#### Phénomènes de seuil"
      ]
    },
    {
      "cell_type": "markdown",
      "metadata": {
        "id": "DMco5NWUSoN_"
      },
      "source": [
        "On veut montrer, de la même manière que ce qui a été fait pour la diffusion laplacienne, l'existence d'un seuil $\\ell *$ tel qu'on ait l'alternative :"
      ]
    },
    {
      "cell_type": "markdown",
      "metadata": {
        "id": "Mk-SVdEGSoN_"
      },
      "source": [
        "###### Conjecture 1 :\n",
        "\n",
        "\n",
        "\n",
        "$\\forall \\ell < \\ell * , u(t,x) \\underset{t \\to +\\infty}{\\overset{unif}{\\longrightarrow}}0$ (Extinction)\n",
        "\n",
        "$\\forall \\ell > \\ell * , u(t,x) \\underset{t \\to +\\infty}{\\overset{loc. unif}{\\longrightarrow}}1$ (Propagation)\n",
        "\n",
        "et pour $\\ell = \\ell * $ , $u(t,x) \\underset{t \\to +\\infty}{\\overset{unif}{\\longrightarrow}}U_{*}(x)$ (Ground state)\n"
      ]
    },
    {
      "cell_type": "markdown",
      "metadata": {
        "id": "aN5fmcIiSoN_"
      },
      "source": [
        "Commençons, par analogie avec le cas du laplacien, par montrer l'existence de $\\ell_0$ tel que $\\forall \\ell < \\ell_0 , u(t,x) \\underset{t \\to +\\infty}{\\overset{unif}{\\longrightarrow}}0$ (Extinction)\n",
        "\n",
        "On commence par montrer le Lemme suivant :\n"
      ]
    },
    {
      "cell_type": "markdown",
      "metadata": {
        "id": "XhWkdw-JSoOA"
      },
      "source": [
        "\\begin{lemma}\\label{lem:1}\n",
        "\n",
        "\n",
        "\n",
        "\n",
        "Soit $f$ bistable, et $K$ vérifiant H1. Alors $\\forall \\gamma \\in [0,a[$ , la solution $v(t,x)$ au problème de Cauchy :\n",
        "\n",
        "\\begin{equation}\n",
        "\\left\\{\n",
        "\\begin{array}{cc}\n",
        "\\partial_t v (t,x) = & d(-v(t,x) + K*v(t,x)) + f(v(t,x))\\\\\n",
        "v(0,x) = \\gamma\n",
        "\\end{array}\n",
        "\\right.\n",
        "\\end{equation}\n",
        "\n",
        "décroit vers 0 uniformément en $x$ lorsque $t \\rightarrow +\\infty$.\n",
        "\n",
        "\\end{lemma}"
      ]
    },
    {
      "cell_type": "markdown",
      "metadata": {
        "id": "cmbjZw3nSoOA"
      },
      "source": [
        "![image.png](https://github.com/Guilhem-Fouilhe/threshold/raw/main/pictures/Figures%20research/constantu0.png)"
      ]
    },
    {
      "cell_type": "markdown",
      "metadata": {
        "id": "o_PG7ti3SoOA"
      },
      "source": [
        "\\begin{proof}\n",
        "\n",
        "\n",
        "_Preuve : dans le cas linéaire, $v(t,x) = w*v_0(x) = \\gamma $ donc $v(t,x)_x = 0$. De plus, comme dans l'ont fait remarquer Aronson et Weinberger dans leur article, les solutions d'une telle équation sont toutes indépendantes de $x$. Posons alors $v(t,x) =\\gamma(t) $. L'équation devient : \n",
        "\n",
        "\\begin{equation}\n",
        "\\begin{split}\n",
        "\\gamma '(t) & = d(-\\gamma(t) + K*\\gamma(t)) +  f(\\gamma(t)) \\\\\n",
        "& = d(-\\gamma(t) + \\int_{\\mathbb{R}}K(y)\\gamma(t)dy) +  f(\\gamma(t)) \\\\\n",
        "& = f(\\gamma(t))\n",
        "\\end{split}\n",
        "\\end{equation}\n",
        "\n",
        "On obtient alors une équation différentielle autonome, et le portrait de phase de cette équation nous permet de conclure que $\\gamma(t) \\underset{t \\to +\\infty}{\\longrightarrow}0$ et donc cela conclut le lemme.\n",
        "\n",
        "\\end{proof}"
      ]
    },
    {
      "cell_type": "markdown",
      "metadata": {
        "id": "y8i0xFFISoOA"
      },
      "source": [
        "Ainsi avec ce lemme, et un argument de comparaison, on peut en déduire immédiatement la proposition suivante :"
      ]
    },
    {
      "cell_type": "markdown",
      "metadata": {
        "id": "t8wWGM6nSoOA"
      },
      "source": [
        "\n",
        "\\begin{proposition}\\label{prop:1}\n",
        "\n",
        "\n",
        "\n",
        "$\\forall \\gamma \\in [0,a[$ , les solutions de l'équation :\n",
        "\\begin{equation}\n",
        "\\partial_t u = d(-u + K*u) + f(u)\n",
        "\\end{equation}\n",
        "\n",
        "telles que $\\forall x \\in \\mathbb{R}, u_0(x) \\in [0,\\gamma] $ vérifient :\n",
        "\\begin{equation}\n",
        "u(t,x) \\underset{t \\to +\\infty}{\\overset{unif}{\\longrightarrow}}0\n",
        "\\end{equation}\n",
        "\n",
        "\\end{proposition}"
      ]
    },
    {
      "cell_type": "markdown",
      "metadata": {
        "id": "04XRzp3MSoOB"
      },
      "source": [
        "On veut utiliser ce résultat pour démontrer l'existence de $\\ell_0$. Il s'agit donc de montrer qu'à partir d'une certaine valeur de $\\ell$, on est sûr que notre solution sera dans $[0,a[$ à partir d'un certain t, et donc y restera et convergera uniformément vers 0."
      ]
    },
    {
      "cell_type": "markdown",
      "metadata": {
        "id": "n5husu6WWZmQ"
      },
      "source": [
        "Nous avons réussi à démontrer ce résultat dans le cas où $f(u) = u(1-u)(u-a)$, avec $a \\in ]0,1[$, ainsi que $K(x) = \\frac{e^{-|x|}}{2}$, mais sous une certaine contrainte pour le coefficient de diffusion $d$."
      ]
    },
    {
      "cell_type": "markdown",
      "metadata": {
        "id": "TLKp-b88W131"
      },
      "source": [
        "$\\textbf{Theoreme :}\\textit{ Soient }~l>0 \\textit{ et }~ u~ \\textit{solution de l'équation :} $\n",
        "\\begin{equation}\n",
        "\\left\\{\n",
        "  \\begin{array}{cc}\n",
        "   \\partial_t u(t,x) =&  d(-u(t,x)+K*u(t,x))+f(u(t,x)) \\\\\n",
        "   u(0,x) = & 1_{[-l,l]}(x)~~~~~~~~~~~~~~~~~~~~~~~~~~~~~~~~~~~~~~~~~~~~~~~\n",
        "   \\end{array}\n",
        "   \\right.\n",
        "   \\end{equation}\n",
        "$\\textit{Si } ~d>\\frac{(1-a)^2}{4} \\textit{, alors il existe } l_0 > 0 \\textit{ tel que pour tout }~ l<l_0 ~\\textit{, on a }~ u(t,x) \\underset{t \\to +\\infty}{\\overset{CU}{\\longrightarrow}}0$.\n",
        "\n",
        "\n",
        "\n",
        "\n"
      ]
    },
    {
      "cell_type": "markdown",
      "metadata": {
        "id": "7krn8OgzjdLZ"
      },
      "source": [
        "Avant de démontrer ce lemme, il sera utile de rappeler la solution fondamentale de l'équation de diffusion non locale dans notre contexte. Reprenons la relation précédente : \n",
        "\n",
        "\\begin{equation}\n",
        "u(x,t) = w(t,.)*u_0(x)\n",
        "\\end{equation}\n",
        "où $w(t,x) = \\mathcal{F}^{-1} (e^{d(\\widehat{K(\\xi)} -1)t})$.\n",
        "\n",
        "Un simple calcul donne, pour $K(x) = \\frac{e^{-|x|}}{2} $, d'une part, que $\\widehat{K}(\\xi) = \\frac{1}{1+\\xi^2}$ et donc on obtient $w(t,x) = \\frac{1}{2\\pi} \\int_{\\mathbb{R}} e^{d(\\frac{1}{1+\\xi^2}-1)t} e^{ix \\xi} d\\xi$. On peut même simplifier cette transformée inverse en utilisant la relation $e^{d(\\frac{1}{1+\\xi^2}-1)t} = e^{-dt} + (e^{\\frac{dt}{1+\\xi^2}}-1)e^{-dt}$ et en déduire que :\n",
        "\n",
        "\\begin{equation}\n",
        "\\begin{split}\n",
        "\\frac{1}{2\\pi} \\int_{\\mathbb{R}} e^{d(\\frac{1}{1+\\xi^2}-1)t} e^{ix \\xi} d\\xi & = \\frac{1}{2\\pi} \\int_{\\mathbb{R}} (e^{-dt} + (e^{\\frac{dt}{1+\\xi^2}}-1)e^{-dt}) e^{ix \\xi} d\\xi \\\\ \n",
        "& = \\frac{1}{2\\pi} \\int_{\\mathbb{R}} e^{-dt}e^{ix\\xi} d\\xi + \\frac{1}{2\\pi} \\int_{\\mathbb{R}}(e^{\\frac{dt}{1+\\xi^2}}-1)e^{-dt} e^{ix \\xi} d\\xi \\\\ \n",
        "& = \\frac{1}{2\\pi} e^{-dt}\\delta_0(x) + z(t,x)\n",
        "\\end{split}\n",
        "\\end{equation}\n",
        "\n",
        "où $z(t,x) = \\frac{e^{-dt}}{2\\pi} \\int_{\\mathbb{R}}(e^{\\frac{dt}{1+\\xi^2}}-1) e^{ix \\xi} d\\xi$.\n",
        "\n",
        "Nous avons désormais tous les outils pour démontrer le théorème."
      ]
    },
    {
      "cell_type": "markdown",
      "metadata": {
        "id": "Qg2q-NKRj2KM"
      },
      "source": [
        "$\\textit{Démonstration : }$ La preuve se fait en trois étapes :\n",
        "\n",
        "**Etape 1 :** Majoration de la solution par une solution annexe.\n",
        "\n",
        "Posons $c = \\underset{u \\in ]a,1[~~~~~~~~~~~~}{\\text{sup} \\{\\frac{f(u)}{u}}\\}$. On peut voir avec un calcul élémentaire que $  c = \\frac{(1-a)^2}{4} $. Soit maintenant $v(t,x)$ la solution du problème de Cauchy suivant : \n",
        "\\begin{equation}\n",
        "\\left\\{\n",
        "  \\begin{array}{cc}\n",
        "    \\partial_t v(t,x) =& d(-v(t,x) + K*v(t,x)) + cv(t,x) \\\\\n",
        "    v(0,x) =& u_0(x) \n",
        "  \\end{array}\n",
        "  \\right.\n",
        "\\end{equation}\n",
        "\n",
        "On voit par principe du maximum, que nécéssairement $v\\ge 0$. De plus, par définition de $c$, et comme $f$ est négative sur $[0,a]$, on a que : \n",
        "\\begin{equation}\n",
        "f(u) \\le cu, ~~~~~~~~~~\\forall u \\in [0,1]\n",
        "\\end{equation}\n",
        "\n",
        "Ainsi, on peut en déduire que pour $u$ solution de l'équation : \n",
        "\n",
        "\\begin{equation}\n",
        "\\partial_t u - d(-u+K*u) -cu \\le \\partial_t u - d(-u+K*u) -cu -f(u) = 0 \n",
        "\\end{equation}\n",
        "\n",
        "Or, $\\partial_t v - d(-v + K*v) - cv = 0$, donc on a que : \n",
        "\\begin{equation}\n",
        "\\partial_t v- d(-v + K*v) - cv \\ge \\partial_t u - d(-u+K*u) -cu \n",
        "\\end{equation}\n",
        "\n",
        "et donc $v \\ge u$ par principe de comparaison.\n",
        "\n",
        "**Etape 2 :** Identification de $v$\n",
        "\n",
        "Considérons $v(t,x) e^{-ct}$. On a que :\n",
        "\\begin{equation}\n",
        "\\begin{split}\n",
        "\\partial_t(v(t,x) e^{-ct}) & = \\partial_t v(t,x) e^{-ct} - c v(t,x)e^{-ct} \\\\\n",
        "& = (d(-v(t,x) + K*v(t,x)) + cv(t,x))e^{-ct}  - c v(t,x)e^{-ct} \\\\\n",
        "& = d(-v(t,x)e^{-ct} + K*v(t,x)e^{-ct})\n",
        "\\end{split}\n",
        "\\end{equation}\n",
        "\n",
        "Autrement dit, $v(t,x) e^{-ct}$ est solution fondamentale de l'équation de diffusion non locale avec comme condition initiale $u_0$. Ainsi, grâce à la remarque préliminaire, on obtient que : \n",
        "\\begin{equation}\n",
        "\\begin{split}\n",
        "  v(t,x) e^{-ct}& = w(t,.)*u_0(x)\\\\\n",
        "  & = \\int_{\\mathbb{R}}\\frac{\\delta_0(x-y)e^{-td}}{2\\pi}u_0(y)dy + \\int_{\\mathbb{R}}z(t,x-y)u_0(y)dy \\\\\n",
        "  & = \\frac{u_0(x)e^{-td}}{2\\pi} + \\int_{-l}^l z(t,x-y)dy\n",
        "\\end{split}\n",
        "\\end{equation}\n",
        "\n",
        "**Etape 3 :** Recherche de $l_0$\n",
        "\n",
        "Maintenant nous allons majorer notre expression de $v$ pour obtenir une condition sur $l$ suffisante pour que $u$ tende uniformément vers $0$.\n",
        "\n",
        "\n",
        "\\begin{equation}\n",
        "\\begin{split}\n",
        "   |u(t,x)| \\le |v(t,x)| & = |\\frac{u_0(x)e^{t(c-d)}}{2\\pi} + e^{tc}\\int_{-l}^l z(t,x-y)dy|\\\\\n",
        "   & \\le \\frac{e^{t(c-d)}}{2\\pi} + e^{tc} \\times|\\int_{-l}^l \\frac{e^{-dt}}{2\\pi} \\int_{\\mathbb{R}}(e^{\\frac{dt}{1+\\xi^2}}-1) e^{i(x-y) \\xi} d\\xi dy| \\\\\n",
        "   & \\le \\frac{e^{t(c-d)}}{2\\pi}+ \\frac{e^{t(c-d)}}{2\\pi} \\times\\int_{-l}^l |\\int_{\\mathbb{R}}(e^{\\frac{dt}{1+\\xi^2}}-1) e^{i(x-y) \\xi} d\\xi |dy \\\\\n",
        "\\end{split}\n",
        "\\end{equation}\n",
        "\n",
        "Or, on voit que $ |\\int_{\\mathbb{R}}(e^{\\frac{dt}{1+\\xi^2}}-1) e^{ix \\xi} d\\xi | \\le \\int_{\\mathbb{R}}(e^{\\frac{dt}{1+\\xi^2}}-1) |e^{ix \\xi}| d\\xi =\\int_{\\mathbb{R}}(e^{\\frac{dt}{1+\\xi^2}}-1)d\\xi $, une intégrale qui converge pour tout $t>0$. On pose alors $M_t>0$ cette intégrale. On obtient alors : \n",
        "\n",
        "\\begin{equation}\n",
        "\\begin{split}\n",
        "|u(t,x)| & \\le \\frac{e^{t(c-d)}}{2\\pi}(1+\\int_{-l}^l |\\int_{\\mathbb{R}}(e^{\\frac{dt}{1+\\xi^2}}-1) e^{i(x-y) \\xi} d\\xi |dy) \\\\\n",
        "& \\le \\frac{e^{t(c-d)}}{2\\pi}(1+2lM_t)\n",
        "\\end{split}\n",
        "\\end{equation}\n",
        "\n",
        "Ainsi, par le lemme, $u$ va converger uniformément vers 0 dès que $\\frac{e^{t(c-d)}}{2\\pi}(1+2lM_t) <a$, soit lorsque $l < \\frac{2\\pi a e^{t(d-c)}-1}{2M_t}$. Cependant, on souhaite $l>0$, on a donc la suivante condition sur le membre de droite pour que $l$ existe : $2\\pi a e^{t(d-c)}>1$ condition qui sera vérifié pour un certain temps $t_0>0$ si $d>c$. Ainsi, en posant $l_0 =  \\frac{2\\pi a e^{t_0(d-c)}-1}{4M_{t_0}}$, le théorème est prouvé.\n",
        "\n",
        "\n",
        "\n",
        "\n",
        "\n",
        "\n",
        "\n"
      ]
    }
  ]
}